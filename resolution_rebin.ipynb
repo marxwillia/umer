{
 "cells": [
  {
   "cell_type": "code",
   "execution_count": 4,
   "metadata": {},
   "outputs": [],
   "source": [
    "import numpy as np\n",
    "import matplotlib.pyplot as plt"
   ]
  },
  {
   "cell_type": "markdown",
   "metadata": {},
   "source": [
    "# Make dummy test spectrum"
   ]
  },
  {
   "cell_type": "code",
   "execution_count": 104,
   "metadata": {},
   "outputs": [],
   "source": [
    "# binning in logspace\n",
    "wvl = np.logspace(np.log10(4000), np.log10(7000), 13)\n",
    "flux = np.ones(len(wvl))"
   ]
  },
  {
   "cell_type": "code",
   "execution_count": 105,
   "metadata": {},
   "outputs": [
    {
     "data": {
      "text/plain": [
       "Text(0, 0.5, 'Flux')"
      ]
     },
     "execution_count": 105,
     "metadata": {},
     "output_type": "execute_result"
    },
    {
     "data": {
      "image/png": "[encoded data removed]",
      "text/plain": [
       "<Figure size 432x288 with 1 Axes>"
      ]
     },
     "metadata": {
      "needs_background": "light"
     },
     "output_type": "display_data"
    }
   ],
   "source": [
    "plt.plot(wvl, flux)\n",
    "\n",
    "plt.ylim((0,2))\n",
    "plt.xlabel('Wavelength $(\\AA)$')\n",
    "plt.ylabel('Flux')"
   ]
  },
  {
   "cell_type": "markdown",
   "metadata": {},
   "source": [
    "# Define Useful Functions:"
   ]
  },
  {
   "cell_type": "code",
   "execution_count": 88,
   "metadata": {},
   "outputs": [
    {
     "name": "stdout",
     "output_type": "stream",
     "text": [
      "Show edges and centers have same log spacing:\n",
      "[0.02025317 0.02025317 0.02025317 0.02025317 0.02025317 0.02025317\n",
      " 0.02025317 0.02025317 0.02025317 0.02025317 0.02025317 0.02025317]\n",
      "[0.02025317 0.02025317 0.02025317 0.02025317 0.02025317 0.02025317\n",
      " 0.02025317 0.02025317 0.02025317 0.02025317 0.02025317 0.02025317\n",
      " 0.02025317]\n",
      "Show center to edges and edges to center cancel out:\n",
      "[0.00000000e+00 4.54747351e-12 4.54747351e-12 0.00000000e+00\n",
      " 4.54747351e-12 5.45696821e-12 0.00000000e+00 6.36646291e-12\n",
      " 5.45696821e-12 0.00000000e+00 7.27595761e-12 7.27595761e-12\n",
      " 0.00000000e+00]\n"
     ]
    }
   ],
   "source": [
    "def bin_centers_to_edges(centers):\n",
    "    \"\"\"Converts bin centers to bin edges. Assumes bins are logspaced.\"\"\"\n",
    "    log_centers = np.log10(centers)\n",
    "    bin_rad = np.diff(log_centers)[0]/2.0\n",
    "    edges = [center - bin_rad for center in log_centers]\n",
    "    edges.append(log_centers[-1] + bin_rad)\n",
    "    return np.power(10, np.array(edges))\n",
    "\n",
    "def bin_edges_to_centers(edges):\n",
    "    \"\"\"Converts bin edges to centers. Assumes bins are logspaced.\"\"\"\n",
    "    log_edges = np.log10(edges)\n",
    "    bin_rad = np.diff(log_edges)[0] / 2.0\n",
    "    centers = log_edges[:-1] + bin_rad\n",
    "    return np.power(10, centers)\n",
    "    \n",
    "print('Show edges and centers have same log spacing:')\n",
    "print(np.diff(np.log10(wvl)))\n",
    "print(np.diff(np.log10(bin_centers_to_edges(wvl))))\n",
    "\n",
    "print('Show center to edges and edges to center cancel out:')\n",
    "print(bin_edges_to_centers(bin_centers_to_edges(wvl)) - wvl)"
   ]
  },
  {
   "cell_type": "code",
   "execution_count": 89,
   "metadata": {},
   "outputs": [
    {
     "name": "stdout",
     "output_type": "stream",
     "text": [
      "Old logbin width = 0.020253\n",
      "New logbin width = 0.050633\n",
      "New/Old width ratio = 2.500000\n"
     ]
    }
   ],
   "source": [
    "def rebin_resolution(wvl, resolution_factor):\n",
    "    \"\"\"\n",
    "    Parameters\n",
    "    ----------\n",
    "    wvl : np.ndarray\n",
    "        Original logspaced bin edges.\n",
    "    resolution_factor : float\n",
    "        Factor to reduce original resolution by.\n",
    "        \n",
    "    Returns\n",
    "    -------\n",
    "    new_wvl : np.ndarray\n",
    "        New logspaced bin edges.\n",
    "    \"\"\"\n",
    "    orig_wvl_start = wvl[0]\n",
    "    orig_wvl_end = wvl[-1]\n",
    "    orig_bin_rad = np.diff(np.log10(wvl))[0] / 2.0\n",
    "    new_bin_rad = resolution_factor * orig_bin_rad\n",
    "    new_bins = np.arange(np.log10(orig_wvl_start), np.log10(orig_wvl_end), 2*new_bin_rad)\n",
    "    return np.power(10, new_bins)\n",
    "\n",
    "wvl_edges = bin_centers_to_edges(wvl)\n",
    "new_wvl_edges = rebin_resolution(wvl_edges, 2.5)\n",
    "old_logbin_width = np.diff(np.log10(wvl_edges))[0]\n",
    "new_logbin_width = np.diff(np.log10(new_wvl_edges))[0]\n",
    "print('Old logbin width = %f'%(old_logbin_width))\n",
    "print('New logbin width = %f'%(new_logbin_width))\n",
    "print('New/Old width ratio = %f'%(new_logbin_width / old_logbin_width))"
   ]
  },
  {
   "cell_type": "code",
   "execution_count": 102,
   "metadata": {},
   "outputs": [
    {
     "name": "stdout",
     "output_type": "stream",
     "text": [
      "[0.  0.  0.  0.7 1.  1.  0.6 0.  0.  0.  0.  0.  0. ]\n"
     ]
    },
    {
     "data": {
      "image/png": "[encoded data removed]",
      "text/plain": [
       "<Figure size 1080x360 with 1 Axes>"
      ]
     },
     "metadata": {
      "needs_background": "light"
     },
     "output_type": "display_data"
    }
   ],
   "source": [
    "def new_bin_old_bin_overlap(new_center, new_bin_rad, old_edges):\n",
    "    \"\"\"\n",
    "    Parameters\n",
    "    ----------\n",
    "    new_center : float\n",
    "        Center of new bin.\n",
    "    new_bin_rad : float\n",
    "        Radius of new bin in logspace.\n",
    "    old_edges : np.ndarray\n",
    "        Original bin edges.\n",
    "        \n",
    "    Returns\n",
    "    -------\n",
    "    overlap : np.ndarray\n",
    "        Fractional overlap of old bins inside new bin.\n",
    "    \"\"\"\n",
    "    new_log_center = np.log10(new_center)\n",
    "    old_log_edges = np.log10(old_edges)\n",
    "    old_logbin_width = np.diff(old_log_edges)[0]\n",
    "    new_left_edge = new_log_center - new_bin_rad\n",
    "    new_right_edge = new_log_center + new_bin_rad\n",
    "    \n",
    "    left_ind_in_old_bins = np.searchsorted(old_log_edges, new_left_edge, side='right')\n",
    "    right_ind_in_old_bins = np.searchsorted(old_log_edges, new_right_edge, side='left')\n",
    "    \n",
    "    overlap = np.zeros(len(old_edges) - 1)\n",
    "    \n",
    "    left_overlap = (old_log_edges[left_ind_in_old_bins] - new_left_edge) / old_logbin_width\n",
    "    right_overlap = (new_right_edge - old_log_edges[right_ind_in_old_bins - 1]) / old_logbin_width\n",
    "    \n",
    "    overlap[left_ind_in_old_bins - 1] = left_overlap\n",
    "    overlap[right_ind_in_old_bins - 1] = right_overlap\n",
    "    overlap[left_ind_in_old_bins : right_ind_in_old_bins - 1] = 1.0\n",
    "    return overlap\n",
    "\n",
    "wvl_edges = bin_centers_to_edges(wvl)\n",
    "new_wvl_edges = rebin_resolution(wvl_edges, 3.3)\n",
    "new_wvl_centers = bin_edges_to_centers(new_wvl_edges)\n",
    "new_bin_rad = np.diff(np.log10(new_wvl_centers))[0] / 2.0\n",
    "\n",
    "new_center = new_wvl_centers[1]\n",
    "overlap = new_bin_old_bin_overlap(new_center, new_bin_rad, wvl_edges)\n",
    "plt.figure(figsize=(15,5))\n",
    "plt.scatter(np.log10(wvl_edges), np.ones(len(wvl_edges)), label='old bin edges', c='k')\n",
    "plt.scatter([np.log10(new_center) - new_bin_rad, np.log10(new_center) + new_bin_rad], [0.8,0.8], label='new bin edges', c='r')\n",
    "for i in range(len(overlap)):\n",
    "    plt.text(np.log10(wvl[i]), 1, '%.2f'%(overlap[i]))\n",
    "plt.ylim((0,1.5))\n",
    "plt.legend()\n",
    "print(overlap)"
   ]
  },
  {
   "cell_type": "code",
   "execution_count": 103,
   "metadata": {},
   "outputs": [
    {
     "data": {
      "text/plain": [
       "[<matplotlib.lines.Line2D at 0x11eb510f0>]"
      ]
     },
     "execution_count": 103,
     "metadata": {},
     "output_type": "execute_result"
    },
    {
     "data": {
      "image/png": "[encoded data removed]",
      "text/plain": [
       "<Figure size 432x288 with 1 Axes>"
      ]
     },
     "metadata": {
      "needs_background": "light"
     },
     "output_type": "display_data"
    }
   ],
   "source": [
    "def rebin_fluxes(old_fluxes, old_wvl_centers, new_wvl_centers):\n",
    "    \"\"\"\n",
    "    Parameters\n",
    "    ----------\n",
    "    old_fluxes : np.ndarray\n",
    "        Old fluxes.\n",
    "    old_wvl_centers : np.ndarray\n",
    "        Old wvl centers.\n",
    "    new_wvl_centers : np.ndarray\n",
    "        New wvl centers.\n",
    "        \n",
    "    Returns\n",
    "    -------\n",
    "    new_fluxes : np.ndarray\n",
    "        New fluxes.\n",
    "    \"\"\"\n",
    "    \n",
    "    overlap_matrix = np.ndarray((len(new_wvl_centers), len(old_wvl_centers)))\n",
    "    old_wvl_edges = bin_centers_to_edges(old_wvl_centers)\n",
    "    new_bin_rad = np.diff(np.log10(new_wvl_centers))[0] / 2.0\n",
    "    \n",
    "    for i in range(len(new_wvl_centers)):\n",
    "        bin_center = new_wvl_centers[i]\n",
    "        overlap_arr = new_bin_old_bin_overlap(bin_center, new_bin_rad, old_wvl_edges)\n",
    "        overlap_matrix[i,:] = overlap_arr\n",
    "        \n",
    "    return np.matmul(overlap_matrix, old_fluxes)\n",
    "\n",
    "\n",
    "wvl_edges = bin_centers_to_edges(wvl)\n",
    "new_wvl_edges = rebin_resolution(wvl_edges, 3.3)\n",
    "new_wvl_centers = bin_edges_to_centers(new_wvl_edges)\n",
    "new_fluxes = rebin_fluxes(flux, wvl, new_wvl_centers)\n",
    "plt.plot(new_wvl_centers, new_fluxes)"
   ]
  },
  {
   "cell_type": "code",
   "execution_count": null,
   "metadata": {},
   "outputs": [],
   "source": []
  },
  {
   "cell_type": "code",
   "execution_count": null,
   "metadata": {},
   "outputs": [],
   "source": []
  }
 ],
 "metadata": {
  "kernelspec": {
   "display_name": "Python 3",
   "language": "python",
   "name": "python3"
  },
  "language_info": {
   "codemirror_mode": {
    "name": "ipython",
    "version": 3
   },
   "file_extension": ".py",
   "mimetype": "text/x-python",
   "name": "python",
   "nbconvert_exporter": "python",
   "pygments_lexer": "ipython3",
   "version": "3.6.7"
  }
 },
 "nbformat": 4,
 "nbformat_minor": 2
}
